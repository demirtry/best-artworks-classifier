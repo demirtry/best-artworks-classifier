{
  "nbformat": 4,
  "nbformat_minor": 0,
  "metadata": {
    "colab": {
      "provenance": []
    },
    "kernelspec": {
      "name": "python3",
      "display_name": "Python 3"
    },
    "language_info": {
      "name": "python"
    }
  },
  "cells": [
    {
      "cell_type": "code",
      "source": [
        "from google.colab import files\n",
        "files.upload()  #  kaggle.json\n"
      ],
      "metadata": {
        "colab": {
          "base_uri": "https://localhost:8080/",
          "height": 90
        },
        "id": "W2qMf2ShniJE",
        "outputId": "41d1e557-05f2-4397-d5f1-e906f4b74edb"
      },
      "execution_count": null,
      "outputs": [
        {
          "output_type": "display_data",
          "data": {
            "text/plain": [
              "<IPython.core.display.HTML object>"
            ],
            "text/html": [
              "\n",
              "     <input type=\"file\" id=\"files-9a73ee88-89ed-4c36-bf79-4a38473101c6\" name=\"files[]\" multiple disabled\n",
              "        style=\"border:none\" />\n",
              "     <output id=\"result-9a73ee88-89ed-4c36-bf79-4a38473101c6\">\n",
              "      Upload widget is only available when the cell has been executed in the\n",
              "      current browser session. Please rerun this cell to enable.\n",
              "      </output>\n",
              "      <script>// Copyright 2017 Google LLC\n",
              "//\n",
              "// Licensed under the Apache License, Version 2.0 (the \"License\");\n",
              "// you may not use this file except in compliance with the License.\n",
              "// You may obtain a copy of the License at\n",
              "//\n",
              "//      http://www.apache.org/licenses/LICENSE-2.0\n",
              "//\n",
              "// Unless required by applicable law or agreed to in writing, software\n",
              "// distributed under the License is distributed on an \"AS IS\" BASIS,\n",
              "// WITHOUT WARRANTIES OR CONDITIONS OF ANY KIND, either express or implied.\n",
              "// See the License for the specific language governing permissions and\n",
              "// limitations under the License.\n",
              "\n",
              "/**\n",
              " * @fileoverview Helpers for google.colab Python module.\n",
              " */\n",
              "(function(scope) {\n",
              "function span(text, styleAttributes = {}) {\n",
              "  const element = document.createElement('span');\n",
              "  element.textContent = text;\n",
              "  for (const key of Object.keys(styleAttributes)) {\n",
              "    element.style[key] = styleAttributes[key];\n",
              "  }\n",
              "  return element;\n",
              "}\n",
              "\n",
              "// Max number of bytes which will be uploaded at a time.\n",
              "const MAX_PAYLOAD_SIZE = 100 * 1024;\n",
              "\n",
              "function _uploadFiles(inputId, outputId) {\n",
              "  const steps = uploadFilesStep(inputId, outputId);\n",
              "  const outputElement = document.getElementById(outputId);\n",
              "  // Cache steps on the outputElement to make it available for the next call\n",
              "  // to uploadFilesContinue from Python.\n",
              "  outputElement.steps = steps;\n",
              "\n",
              "  return _uploadFilesContinue(outputId);\n",
              "}\n",
              "\n",
              "// This is roughly an async generator (not supported in the browser yet),\n",
              "// where there are multiple asynchronous steps and the Python side is going\n",
              "// to poll for completion of each step.\n",
              "// This uses a Promise to block the python side on completion of each step,\n",
              "// then passes the result of the previous step as the input to the next step.\n",
              "function _uploadFilesContinue(outputId) {\n",
              "  const outputElement = document.getElementById(outputId);\n",
              "  const steps = outputElement.steps;\n",
              "\n",
              "  const next = steps.next(outputElement.lastPromiseValue);\n",
              "  return Promise.resolve(next.value.promise).then((value) => {\n",
              "    // Cache the last promise value to make it available to the next\n",
              "    // step of the generator.\n",
              "    outputElement.lastPromiseValue = value;\n",
              "    return next.value.response;\n",
              "  });\n",
              "}\n",
              "\n",
              "/**\n",
              " * Generator function which is called between each async step of the upload\n",
              " * process.\n",
              " * @param {string} inputId Element ID of the input file picker element.\n",
              " * @param {string} outputId Element ID of the output display.\n",
              " * @return {!Iterable<!Object>} Iterable of next steps.\n",
              " */\n",
              "function* uploadFilesStep(inputId, outputId) {\n",
              "  const inputElement = document.getElementById(inputId);\n",
              "  inputElement.disabled = false;\n",
              "\n",
              "  const outputElement = document.getElementById(outputId);\n",
              "  outputElement.innerHTML = '';\n",
              "\n",
              "  const pickedPromise = new Promise((resolve) => {\n",
              "    inputElement.addEventListener('change', (e) => {\n",
              "      resolve(e.target.files);\n",
              "    });\n",
              "  });\n",
              "\n",
              "  const cancel = document.createElement('button');\n",
              "  inputElement.parentElement.appendChild(cancel);\n",
              "  cancel.textContent = 'Cancel upload';\n",
              "  const cancelPromise = new Promise((resolve) => {\n",
              "    cancel.onclick = () => {\n",
              "      resolve(null);\n",
              "    };\n",
              "  });\n",
              "\n",
              "  // Wait for the user to pick the files.\n",
              "  const files = yield {\n",
              "    promise: Promise.race([pickedPromise, cancelPromise]),\n",
              "    response: {\n",
              "      action: 'starting',\n",
              "    }\n",
              "  };\n",
              "\n",
              "  cancel.remove();\n",
              "\n",
              "  // Disable the input element since further picks are not allowed.\n",
              "  inputElement.disabled = true;\n",
              "\n",
              "  if (!files) {\n",
              "    return {\n",
              "      response: {\n",
              "        action: 'complete',\n",
              "      }\n",
              "    };\n",
              "  }\n",
              "\n",
              "  for (const file of files) {\n",
              "    const li = document.createElement('li');\n",
              "    li.append(span(file.name, {fontWeight: 'bold'}));\n",
              "    li.append(span(\n",
              "        `(${file.type || 'n/a'}) - ${file.size} bytes, ` +\n",
              "        `last modified: ${\n",
              "            file.lastModifiedDate ? file.lastModifiedDate.toLocaleDateString() :\n",
              "                                    'n/a'} - `));\n",
              "    const percent = span('0% done');\n",
              "    li.appendChild(percent);\n",
              "\n",
              "    outputElement.appendChild(li);\n",
              "\n",
              "    const fileDataPromise = new Promise((resolve) => {\n",
              "      const reader = new FileReader();\n",
              "      reader.onload = (e) => {\n",
              "        resolve(e.target.result);\n",
              "      };\n",
              "      reader.readAsArrayBuffer(file);\n",
              "    });\n",
              "    // Wait for the data to be ready.\n",
              "    let fileData = yield {\n",
              "      promise: fileDataPromise,\n",
              "      response: {\n",
              "        action: 'continue',\n",
              "      }\n",
              "    };\n",
              "\n",
              "    // Use a chunked sending to avoid message size limits. See b/62115660.\n",
              "    let position = 0;\n",
              "    do {\n",
              "      const length = Math.min(fileData.byteLength - position, MAX_PAYLOAD_SIZE);\n",
              "      const chunk = new Uint8Array(fileData, position, length);\n",
              "      position += length;\n",
              "\n",
              "      const base64 = btoa(String.fromCharCode.apply(null, chunk));\n",
              "      yield {\n",
              "        response: {\n",
              "          action: 'append',\n",
              "          file: file.name,\n",
              "          data: base64,\n",
              "        },\n",
              "      };\n",
              "\n",
              "      let percentDone = fileData.byteLength === 0 ?\n",
              "          100 :\n",
              "          Math.round((position / fileData.byteLength) * 100);\n",
              "      percent.textContent = `${percentDone}% done`;\n",
              "\n",
              "    } while (position < fileData.byteLength);\n",
              "  }\n",
              "\n",
              "  // All done.\n",
              "  yield {\n",
              "    response: {\n",
              "      action: 'complete',\n",
              "    }\n",
              "  };\n",
              "}\n",
              "\n",
              "scope.google = scope.google || {};\n",
              "scope.google.colab = scope.google.colab || {};\n",
              "scope.google.colab._files = {\n",
              "  _uploadFiles,\n",
              "  _uploadFilesContinue,\n",
              "};\n",
              "})(self);\n",
              "</script> "
            ]
          },
          "metadata": {}
        },
        {
          "output_type": "stream",
          "name": "stdout",
          "text": [
            "Saving kaggle.json to kaggle.json\n"
          ]
        },
        {
          "output_type": "execute_result",
          "data": {
            "text/plain": [
              "{'kaggle.json': b'{\"username\":\"samlys\",\"key\":\"0db25effa810e54ec78642310ca86ed7\"}'}"
            ]
          },
          "metadata": {},
          "execution_count": 4
        }
      ]
    },
    {
      "cell_type": "code",
      "source": [
        "import os\n",
        "import shutil\n",
        "\n",
        "\n",
        "os.makedirs(\"/root/.kaggle\", exist_ok=True)\n",
        "\n",
        "\n",
        "shutil.move(\"kaggle.json\", \"/root/.kaggle/kaggle.json\")\n",
        "\n",
        "\n",
        "os.chmod(\"/root/.kaggle/kaggle.json\", 0o600)\n"
      ],
      "metadata": {
        "id": "ORDpM7onnXhF"
      },
      "execution_count": null,
      "outputs": []
    },
    {
      "cell_type": "code",
      "source": [
        "!pip install -q kaggle\n",
        "!kaggle datasets list -s artworks\n"
      ],
      "metadata": {
        "colab": {
          "base_uri": "https://localhost:8080/"
        },
        "id": "DG75a1e2nwkT",
        "outputId": "807cb494-66f8-44ab-f9c8-243833210617"
      },
      "execution_count": null,
      "outputs": [
        {
          "output_type": "stream",
          "name": "stdout",
          "text": [
            "ref                                                         title                                                 size  lastUpdated                 downloadCount  voteCount  usabilityRating  \n",
            "----------------------------------------------------------  ---------------------------------------------  -----------  --------------------------  -------------  ---------  ---------------  \n",
            "ikarus777/best-artworks-of-all-time                         Best Artworks of All Time                       2460161668  2019-03-02 09:21:51.907000          38927       1029  1.0              \n",
            "momanyc/museum-collection                                   Museum of Modern Art Collection                    6199715  2017-02-15 14:40:59.537000           7473        158  0.8235294        \n",
            "metmuseum/the-metropolitan-museum-of-art-open-access        The Metropolitan Museum of Art Open Access        26390765  2017-04-07 07:57:15.063000           1595         47  0.8235294        \n",
            "jackogozaly/moma-artworks-on-view                           MOMA Artworks on View                               347015  2022-02-06 20:49:57.297000            148         12  0.88235295       \n",
            "rishidamarla/art-and-artists-from-the-museum-of-modern-art  Art and Artists from the Museum of Modern Art      9035869  2022-01-11 00:45:52.660000            834         30  0.9411765        \n",
            "sivarazadi/wikiart-art-movementsstyles                      WikiArt Art Movements/Styles                   29000048715  2023-01-03 19:15:46.500000           2236         57  0.875            \n",
            "rtatman/the-tate-collection                                 The Tate Collection                                5770993  2017-08-18 22:16:15.530000           1125         30  0.8235294        \n",
            "franceschet/superrare                                       SuperRare                                         11309937  2021-03-30 18:53:00.567000            531         19  1.0              \n",
            "waqi786/ai-generated-art-trends                             🎨 AI-Generated Art Trends Dataset 🎨                 230971  2024-09-03 12:03:23.123000            885         28  1.0              \n",
            "flkuhm/art-price-dataset                                    Art Price Dataset                                384233717  2022-10-18 13:10:10.640000            925          9  0.9411765        \n",
            "cashbowman/ai-generated-images-vs-real-images               AI Generated Images vs Real Images               499048119  2024-02-10 05:09:13.717000           7120         92  0.875            \n",
            "mfrancis23/carnegie-museum-of-art                           Carnegie Museum of Art                             8176811  2020-08-19 19:45:37.337000            363         13  1.0              \n",
            "sreevishnudamodaran/artworks-in-public-domain               Artworks In Public Domain                       3636976209  2022-02-11 13:19:09.633000            183          6  0.625            \n",
            "thedevastator/museo-del-prado-artworks                      Museo del Prado Artworks                            441427  2023-02-07 15:33:03.900000            115          6  0.8235294        \n",
            "adamelkholy/human-ai-artwork                                AI-Artwork                                     67035586900  2024-03-18 17:12:13.923000            530         13  0.875            \n",
            "ansonnnnn/historic-art                                      Historic_Art                                    7390866234  2022-03-06 00:20:17.443000            607         14  0.9411765        \n",
            "remileroy/pokemon-official-artworks                         Pokemon Official Artworks                        116186476  2020-10-25 21:02:09.943000             43          6  0.375            \n",
            "alexanderliao/artbench10                                    ArtBench-10                                      348412562  2022-06-08 21:58:55.193000            626         19  0.88235295       \n",
            "huynguyenphamnhat/artworks-dataset                          Artworks Dataset                                2323637373  2022-04-03 03:42:57.730000             63          2  0.29411766       \n",
            "alod83/van-gogh-artworks                                    Van Gogh Artworks                                    98626  2022-03-11 14:46:48.060000             37          3  0.64705884       \n"
          ]
        }
      ]
    },
    {
      "cell_type": "code",
      "source": [
        "!kaggle datasets download -d ikarus777/best-artworks-of-all-time -p data --unzip\n"
      ],
      "metadata": {
        "colab": {
          "base_uri": "https://localhost:8080/"
        },
        "id": "JdXSDTN8nyKS",
        "outputId": "58142621-f8a6-41bb-9091-86fa6a179403"
      },
      "execution_count": null,
      "outputs": [
        {
          "output_type": "stream",
          "name": "stdout",
          "text": [
            "Dataset URL: https://www.kaggle.com/datasets/ikarus777/best-artworks-of-all-time\n",
            "License(s): CC-BY-NC-SA-4.0\n",
            "Downloading best-artworks-of-all-time.zip to data\n",
            " 99% 2.28G/2.29G [00:25<00:00, 188MB/s]\n",
            "100% 2.29G/2.29G [00:25<00:00, 95.4MB/s]\n"
          ]
        }
      ]
    },
    {
      "cell_type": "code",
      "source": [
        "import os\n",
        "os.makedirs(\"data/best-artworks-of-all-time\", exist_ok=True)\n",
        "\n",
        "\n",
        "for filename in os.listdir(\"data\"):\n",
        "    if filename != \"best-artworks-of-all-time\":\n",
        "        os.rename(f\"data/{filename}\", f\"data/best-artworks-of-all-time/{filename}\")\n",
        "\n",
        "os.listdir(\"data/best-artworks-of-all-time\")\n"
      ],
      "metadata": {
        "colab": {
          "base_uri": "https://localhost:8080/"
        },
        "id": "_4nil_oboAIP",
        "outputId": "72c7e456-956b-4ba6-adcb-716c0176b134"
      },
      "execution_count": 13,
      "outputs": [
        {
          "output_type": "execute_result",
          "data": {
            "text/plain": [
              "['artists.csv', 'resized', 'images']"
            ]
          },
          "metadata": {},
          "execution_count": 13
        }
      ]
    },
    {
      "cell_type": "code",
      "execution_count": 16,
      "metadata": {
        "colab": {
          "base_uri": "https://localhost:8080/"
        },
        "id": "tuYDJTzpmkgz",
        "outputId": "f685dd6e-a9df-41e0-87d4-76b923311ba1"
      },
      "outputs": [
        {
          "output_type": "stream",
          "name": "stdout",
          "text": [
            "=== Статистика по lifspan ===\n",
            "count    50.0\n",
            "mean     64.8\n",
            "std      16.7\n",
            "min      32.0\n",
            "25%      55.2\n",
            "50%      65.5\n",
            "75%      77.5\n",
            "max      98.0\n",
            "Name: lifespan, dtype: float64\n",
            "\n",
            "=== Средняя разница (реал vs заявлено) ===\n",
            "count     50.0\n",
            "mean    -168.9\n",
            "std      157.5\n",
            "min     -877.0\n",
            "25%     -191.8\n",
            "50%     -123.0\n",
            "75%      -81.0\n",
            "max      -24.0\n",
            "Name: diff, dtype: float64\n"
          ]
        }
      ],
      "source": [
        "# eda_analysis.py\n",
        "import os\n",
        "import re\n",
        "import pandas as pd\n",
        "import numpy as np\n",
        "import matplotlib.pyplot as plt\n",
        "\n",
        "\n",
        "BASE_DIR    = \"data/best-artworks-of-all-time\"\n",
        "CSV_PATH    = os.path.join(BASE_DIR, \"artists.csv\")\n",
        "IMAGES_DIR  = os.path.join(BASE_DIR, \"images\")\n",
        "PLOTS_DIR   = \"plots/eda\"\n",
        "os.makedirs(PLOTS_DIR, exist_ok=True)\n",
        "\n",
        "\n",
        "df = pd.read_csv(CSV_PATH)\n",
        "\n",
        "\n",
        "df_sorted = df.sort_values(\"paintings\", ascending=False)\n",
        "plt.figure(figsize=(10,5))\n",
        "plt.bar(df_sorted[\"name\"].head(20), df_sorted[\"paintings\"].head(20))\n",
        "plt.xticks(rotation=90)\n",
        "plt.title(\"Топ‑20 художников по заявленному числу картин\")\n",
        "plt.ylabel(\"Paintings (заявлено в CSV)\")\n",
        "plt.tight_layout()\n",
        "plt.savefig(os.path.join(PLOTS_DIR, \"top20_paintings_declared.png\"))\n",
        "plt.close()\n",
        "\n",
        "\n",
        "real_counts = []\n",
        "for artist in df[\"name\"]:\n",
        "    artist_dir = os.path.join(IMAGES_DIR, artist)\n",
        "    if os.path.isdir(artist_dir):\n",
        "        real_counts.append(len(os.listdir(artist_dir)))\n",
        "    else:\n",
        "        real_counts.append(0)\n",
        "df[\"real_count\"] = real_counts\n",
        "df[\"diff\"] = df[\"real_count\"] - df[\"paintings\"]\n",
        "\n",
        "plt.figure(figsize=(6,6))\n",
        "plt.scatter(df[\"paintings\"], df[\"real_count\"], alpha=0.6)\n",
        "plt.plot([0, max(df[\"paintings\"])], [0, max(df[\"paintings\"])], 'r--')\n",
        "plt.title(\"Заявлено vs Реально (файлов)\")\n",
        "plt.xlabel(\"Заявлено в CSV\")\n",
        "plt.ylabel(\"Сколько файлов найдено\")\n",
        "plt.tight_layout()\n",
        "plt.savefig(os.path.join(PLOTS_DIR, \"declared_vs_real.png\"))\n",
        "plt.close()\n",
        "\n",
        "nat_counts = df[\"nationality\"].value_counts().head(10)\n",
        "plt.figure(figsize=(8,5))\n",
        "nat_counts.plot(kind=\"bar\")\n",
        "plt.title(\"Топ‑10 национальностей\")\n",
        "plt.ylabel(\"Количество художников\")\n",
        "plt.xticks(rotation=45)\n",
        "plt.tight_layout()\n",
        "plt.savefig(os.path.join(PLOTS_DIR, \"top10_nationalities.png\"))\n",
        "plt.close()\n",
        "\n",
        "\n",
        "genre_counts = df[\"genre\"].value_counts().head(10)\n",
        "plt.figure(figsize=(8,5))\n",
        "genre_counts.plot(kind=\"bar\", color=\"green\")\n",
        "plt.title(\"Топ‑10 жанров\")\n",
        "plt.ylabel(\"Количество художников\")\n",
        "plt.xticks(rotation=45)\n",
        "plt.tight_layout()\n",
        "plt.savefig(os.path.join(PLOTS_DIR, \"top10_genres.png\"))\n",
        "plt.close()\n",
        "\n",
        "\n",
        "def parse_years(s):\n",
        "    if pd.isna(s):\n",
        "        return np.nan, np.nan\n",
        "    parts = re.split(r\"[–—\\-]\", s)\n",
        "    try:\n",
        "        b, d = int(parts[0]), int(parts[1])\n",
        "    except:\n",
        "        return np.nan, np.nan\n",
        "    return b, d\n",
        "\n",
        "births, deaths = zip(*df[\"years\"].apply(parse_years))\n",
        "df[\"birth\"] = births\n",
        "df[\"death\"] = deaths\n",
        "df[\"lifespan\"] = df[\"death\"] - df[\"birth\"]\n",
        "\n",
        "# Распределение lifespan\n",
        "plt.figure(figsize=(8,5))\n",
        "df[\"lifespan\"].dropna().plot(kind=\"hist\", bins=20)\n",
        "plt.title(\"Распределение продолжительности жизни художников\")\n",
        "plt.xlabel(\"Лет\")\n",
        "plt.tight_layout()\n",
        "plt.savefig(os.path.join(PLOTS_DIR, \"lifespan_hist.png\"))\n",
        "plt.close()\n",
        "\n",
        "plt.figure(figsize=(6,6))\n",
        "plt.scatter(df[\"lifespan\"], df[\"paintings\"], alpha=0.6)\n",
        "plt.title(\"Paintings vs Lifespan\")\n",
        "plt.xlabel(\"Продолжительность жизни (лет)\")\n",
        "plt.ylabel(\"Число картин (заявлено)\")\n",
        "plt.tight_layout()\n",
        "plt.savefig(os.path.join(PLOTS_DIR, \"paintings_vs_lifespan.png\"))\n",
        "plt.close()\n",
        "\n",
        "#  Вывод основных статистик в консоль\n",
        "print(\"=== Статистика по lifspan ===\")\n",
        "print(df[\"lifespan\"].describe().round(1))\n",
        "print(\"\\n=== Средняя разница (реал vs заявлено) ===\")\n",
        "print(df[\"diff\"].describe().round(1))\n"
      ]
    }
  ]
}